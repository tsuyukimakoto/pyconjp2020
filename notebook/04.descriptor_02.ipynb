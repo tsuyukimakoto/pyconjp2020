{
 "cells": [
  {
   "cell_type": "code",
   "execution_count": 14,
   "metadata": {},
   "outputs": [],
   "source": [
    "class PositiveInteger:\n",
    "    def __set__(self, instance, value):\n",
    "        if type(value) is not int:\n",
    "            raise ValueError(f\"value should be int, but {value}\")\n",
    "        if value < 0:\n",
    "            raise ValueError(f\"value souldn't be negative\")\n",
    "        self.value = value\n",
    "\n",
    "    def __get__(self, instance, owner):\n",
    "        if hasattr(self, 'value'):\n",
    "            return self.value\n",
    "        return self\n",
    "\n",
    "class Spam:\n",
    "    value1 = PositiveInteger()\n",
    "    value2 = PositiveInteger()"
   ]
  },
  {
   "cell_type": "code",
   "execution_count": 8,
   "metadata": {},
   "outputs": [],
   "source": [
    "spam1 = Spam()\n",
    "spam1.value1 = 10\n",
    "spam1.value2 = 20"
   ]
  },
  {
   "cell_type": "code",
   "execution_count": 9,
   "metadata": {},
   "outputs": [],
   "source": [
    "spam2 = Spam()\n",
    "spam2.value1 = 100\n",
    "spam2.value2 = 200"
   ]
  },
  {
   "cell_type": "code",
   "execution_count": 10,
   "metadata": {},
   "outputs": [
    {
     "name": "stdout",
     "output_type": "stream",
     "text": [
      "100 200 100 200\n"
     ]
    }
   ],
   "source": [
    "print(spam1.value1, spam1.value2, spam2.value1, spam2.value2)"
   ]
  }
 ],
 "metadata": {
  "kernelspec": {
   "display_name": "Python 3",
   "language": "python",
   "name": "python3"
  },
  "language_info": {
   "codemirror_mode": {
    "name": "ipython",
    "version": 3
   },
   "file_extension": ".py",
   "mimetype": "text/x-python",
   "name": "python",
   "nbconvert_exporter": "python",
   "pygments_lexer": "ipython3",
   "version": "3.8.5"
  }
 },
 "nbformat": 4,
 "nbformat_minor": 4
}
