{
 "cells": [
  {
   "cell_type": "code",
   "execution_count": 1,
   "metadata": {},
   "outputs": [],
   "source": [
    "def check_positive_integer(value):\n",
    "    if type(value) is not int:\n",
    "        raise ValueError(f\"value should be int, but {value}\")\n",
    "    if value < 0:\n",
    "        raise ValueError(f\"value souldn't be negative\")\n",
    "\n",
    "\n",
    "class Spam:\n",
    "    def __init__(self):\n",
    "        self.value1 = 0\n",
    "        self.value2 = 0\n",
    "    \n",
    "    @property\n",
    "    def value1(self):\n",
    "        return self._value1\n",
    "    \n",
    "    @value1.setter\n",
    "    def value1(self, value):\n",
    "        check_positive_integer(value)\n",
    "        self._value1 = value\n",
    "\n",
    "    @property\n",
    "    def value2(self):\n",
    "        return self._value2\n",
    "    \n",
    "    @value2.setter\n",
    "    def value2(self, value):\n",
    "        check_positive_integer(value)\n",
    "        self._value2 = value\n"
   ]
  },
  {
   "cell_type": "code",
   "execution_count": null,
   "metadata": {},
   "outputs": [],
   "source": []
  }
 ],
 "metadata": {
  "kernelspec": {
   "display_name": "Python 3",
   "language": "python",
   "name": "python3"
  },
  "language_info": {
   "codemirror_mode": {
    "name": "ipython",
    "version": 3
   },
   "file_extension": ".py",
   "mimetype": "text/x-python",
   "name": "python",
   "nbconvert_exporter": "python",
   "pygments_lexer": "ipython3",
   "version": "3.8.5"
  }
 },
 "nbformat": 4,
 "nbformat_minor": 4
}
