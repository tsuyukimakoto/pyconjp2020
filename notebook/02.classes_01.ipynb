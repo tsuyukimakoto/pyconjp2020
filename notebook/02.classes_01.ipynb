{
 "cells": [
  {
   "cell_type": "code",
   "execution_count": 3,
   "metadata": {},
   "outputs": [],
   "source": [
    "#  ダイヤモンド継承されてる場合、super().__init__()は制御される（BaseClass.__init__は1度しか呼ばれない。他のメソッドも同）\n",
    "\n",
    "class BaseClass:\n",
    "    def __init__(self):\n",
    "        print(\"1: I'm BaseClass __init__\")\n",
    "\n",
    "class ChildA(BaseClass):\n",
    "    def __init__(self):\n",
    "        print(\"1: I'm ChildA __init__\")\n",
    "        super().__init__()\n",
    "        print(\"2: I'm ChildA __init__\")\n",
    "\n",
    "class ChildB(BaseClass):\n",
    "    def __init__(self):\n",
    "        print(\"1: I'm ChildB __init__\")\n",
    "        super().__init__()\n",
    "        print(\"2: I'm ChildB __init__\")\n",
    "\n",
    "class Spam(ChildA, ChildB):\n",
    "    def __init__(self):\n",
    "        print(\"1: I'm Concrete Class\")\n",
    "        super().__init__()\n",
    "        print(\"2: I'm Concrete Class\")"
   ]
  },
  {
   "cell_type": "code",
   "execution_count": 4,
   "metadata": {},
   "outputs": [
    {
     "name": "stdout",
     "output_type": "stream",
     "text": [
      "1: I'm Concrete Class\n",
      "1: I'm ChildA __init__\n",
      "1: I'm ChildB __init__\n",
      "1: I'm BaseClass __init__\n",
      "2: I'm ChildB __init__\n",
      "2: I'm ChildA __init__\n",
      "2: I'm Concrete Class\n"
     ]
    }
   ],
   "source": [
    "spam = Spam()"
   ]
  },
  {
   "cell_type": "code",
   "execution_count": 5,
   "metadata": {},
   "outputs": [
    {
     "data": {
      "text/plain": [
       "[__main__.Spam, __main__.ChildA, __main__.ChildB, __main__.BaseClass, object]"
      ]
     },
     "execution_count": 5,
     "metadata": {},
     "output_type": "execute_result"
    }
   ],
   "source": [
    "Spam.mro()"
   ]
  },
  {
   "cell_type": "code",
   "execution_count": 8,
   "metadata": {},
   "outputs": [],
   "source": [
    "class BaseClass:\n",
    "    def called_method(self):\n",
    "        print(\"1: I'm BaseClass called_method\")\n",
    "\n",
    "class ChildA(BaseClass):\n",
    "    def called_method(self):\n",
    "        print(\"1: I'm ChildA called_method\")\n",
    "        super().called_method()\n",
    "        print(\"2: I'm ChildA called_method\")\n",
    "\n",
    "class ChildB(BaseClass):\n",
    "    def called_method(self):\n",
    "        print(\"1: I'm ChildB called_method\")\n",
    "        super().called_method()\n",
    "        print(\"2: I'm ChildB called_method\")\n",
    "\n",
    "class Spam(ChildA, ChildB):\n",
    "    def called_method(self):\n",
    "        print(\"1: I'm Concreat Class\")\n",
    "        super().called_method()\n",
    "        print(\"2: I'm Concreat Class\")"
   ]
  },
  {
   "cell_type": "code",
   "execution_count": 9,
   "metadata": {},
   "outputs": [
    {
     "name": "stdout",
     "output_type": "stream",
     "text": [
      "1: I'm Concreat Class\n",
      "1: I'm ChildA called_method\n",
      "1: I'm ChildB called_method\n",
      "1: I'm BaseClass called_method\n",
      "2: I'm ChildB called_method\n",
      "2: I'm ChildA called_method\n",
      "2: I'm Concreat Class\n"
     ]
    }
   ],
   "source": [
    "spam = Spam()\n",
    "spam.called_method()"
   ]
  },
  {
   "cell_type": "code",
   "execution_count": 12,
   "metadata": {},
   "outputs": [],
   "source": [
    "class BaseClass:\n",
    "    def called_method(self, value):\n",
    "        print(f\"1: I'm BaseClass called_method with {value}\")\n",
    "\n",
    "class ChildA(BaseClass):\n",
    "    def called_method(self, value):\n",
    "        print(\"1: I'm ChildA called_method\")\n",
    "        super().called_method(\"ChildA\")\n",
    "        print(\"2: I'm ChildA called_method\")\n",
    "\n",
    "class ChildB(BaseClass):\n",
    "    def called_method(self, value):\n",
    "        print(f\"1: I'm ChildB called_method with {value}\")\n",
    "        super().called_method(\"ChildB\")\n",
    "        print(\"2: I'm ChildB called_method\")\n",
    "\n",
    "class Spam(ChildA, ChildB):\n",
    "    def called_method(self, value):\n",
    "        print(\"1: I'm Concreat Class\")\n",
    "        super().called_method(None)\n",
    "        print(\"2: I'm Concreat Class\")"
   ]
  },
  {
   "cell_type": "code",
   "execution_count": 13,
   "metadata": {},
   "outputs": [
    {
     "name": "stdout",
     "output_type": "stream",
     "text": [
      "1: I'm Concreat Class\n",
      "1: I'm ChildA called_method\n",
      "1: I'm ChildB called_method with ChildA\n",
      "1: I'm BaseClass called_method with ChildB\n",
      "2: I'm ChildB called_method\n",
      "2: I'm ChildA called_method\n",
      "2: I'm Concreat Class\n"
     ]
    }
   ],
   "source": [
    "spam = Spam()\n",
    "spam.called_method(None)"
   ]
  },
  {
   "cell_type": "code",
   "execution_count": 14,
   "metadata": {},
   "outputs": [],
   "source": [
    "class BaseClass:\n",
    "    def __init__(self):\n",
    "        print(\"1: I'm BaseClass __init__\")\n",
    "\n",
    "class ChildA(BaseClass):\n",
    "    def __init__(self):\n",
    "        print(\"1: I'm ChildA __init__\")\n",
    "        super().__init__()\n",
    "        print(\"2: I'm ChildA __init__\")\n",
    "\n",
    "class ChildB(BaseClass):\n",
    "    def __init__(self):\n",
    "        print(\"1: I'm ChildB __init__\")\n",
    "        super().__init__()\n",
    "        print(\"2: I'm ChildB __init__\")\n",
    "\n",
    "class ChildX(ChildA, ChildB):\n",
    "    def __init__(self):\n",
    "        print(\"1: I'm ChildX __init__\")\n",
    "        super().__init__()\n",
    "        print(\"2: I'm ChildX __init__\")\n",
    "\n",
    "class ChildY(ChildA, ChildB): #← これなら大丈夫\n",
    "# class ChildY(ChildB, ChildA):\n",
    "    def __init__(self):\n",
    "        print(\"1: I'm ChildY __init__\")\n",
    "        super().__init__()\n",
    "        print(\"2: I'm ChildY __init__\")\n",
    "\n",
    "class Spam(ChildX, ChildY):\n",
    "    def __init__(self):\n",
    "        print(\"1: I'm Concreat Class\")\n",
    "        super().__init__()\n",
    "        print(\"2: I'm Concreat Class\")"
   ]
  },
  {
   "cell_type": "code",
   "execution_count": 15,
   "metadata": {
    "scrolled": true
   },
   "outputs": [
    {
     "name": "stdout",
     "output_type": "stream",
     "text": [
      "1: I'm Concreat Class\n",
      "1: I'm ChildX __init__\n",
      "1: I'm ChildY __init__\n",
      "1: I'm ChildA __init__\n",
      "1: I'm ChildB __init__\n",
      "1: I'm BaseClass __init__\n",
      "2: I'm ChildB __init__\n",
      "2: I'm ChildA __init__\n",
      "2: I'm ChildY __init__\n",
      "2: I'm ChildX __init__\n",
      "2: I'm Concreat Class\n"
     ]
    }
   ],
   "source": [
    "spam = Spam()"
   ]
  },
  {
   "cell_type": "code",
   "execution_count": 17,
   "metadata": {},
   "outputs": [
    {
     "data": {
      "text/plain": [
       "[__main__.Spam,\n",
       " __main__.ChildX,\n",
       " __main__.ChildY,\n",
       " __main__.ChildA,\n",
       " __main__.ChildB,\n",
       " __main__.BaseClass,\n",
       " object]"
      ]
     },
     "execution_count": 17,
     "metadata": {},
     "output_type": "execute_result"
    }
   ],
   "source": [
    "Spam.mro()"
   ]
  },
  {
   "cell_type": "code",
   "execution_count": 16,
   "metadata": {},
   "outputs": [
    {
     "ename": "TypeError",
     "evalue": "Cannot create a consistent method resolution\norder (MRO) for bases ChildA, ChildB",
     "output_type": "error",
     "traceback": [
      "\u001b[0;31m---------------------------------------------------------------------------\u001b[0m",
      "\u001b[0;31mTypeError\u001b[0m                                 Traceback (most recent call last)",
      "\u001b[0;32m<ipython-input-16-13d1171231d8>\u001b[0m in \u001b[0;36m<module>\u001b[0;34m\u001b[0m\n\u001b[1;32m     30\u001b[0m         \u001b[0mprint\u001b[0m\u001b[0;34m(\u001b[0m\u001b[0;34m\"2: I'm ChildY __init__\"\u001b[0m\u001b[0;34m)\u001b[0m\u001b[0;34m\u001b[0m\u001b[0;34m\u001b[0m\u001b[0m\n\u001b[1;32m     31\u001b[0m \u001b[0;34m\u001b[0m\u001b[0m\n\u001b[0;32m---> 32\u001b[0;31m \u001b[0;32mclass\u001b[0m \u001b[0mSpam\u001b[0m\u001b[0;34m(\u001b[0m\u001b[0mChildX\u001b[0m\u001b[0;34m,\u001b[0m \u001b[0mChildY\u001b[0m\u001b[0;34m)\u001b[0m\u001b[0;34m:\u001b[0m\u001b[0;34m\u001b[0m\u001b[0;34m\u001b[0m\u001b[0m\n\u001b[0m\u001b[1;32m     33\u001b[0m     \u001b[0;32mdef\u001b[0m \u001b[0m__init__\u001b[0m\u001b[0;34m(\u001b[0m\u001b[0mself\u001b[0m\u001b[0;34m)\u001b[0m\u001b[0;34m:\u001b[0m\u001b[0;34m\u001b[0m\u001b[0;34m\u001b[0m\u001b[0m\n\u001b[1;32m     34\u001b[0m         \u001b[0mprint\u001b[0m\u001b[0;34m(\u001b[0m\u001b[0;34m\"1: I'm Concreat Class\"\u001b[0m\u001b[0;34m)\u001b[0m\u001b[0;34m\u001b[0m\u001b[0;34m\u001b[0m\u001b[0m\n",
      "\u001b[0;31mTypeError\u001b[0m: Cannot create a consistent method resolution\norder (MRO) for bases ChildA, ChildB"
     ]
    }
   ],
   "source": [
    "#  ダイヤモンドに階層をもう一つ挟んで、順序を反対にすると定義できない\n",
    "\n",
    "class BaseClass:\n",
    "    def __init__(self):\n",
    "        print(\"1: I'm BaseClass __init__\")\n",
    "\n",
    "class ChildA(BaseClass):\n",
    "    def __init__(self):\n",
    "        print(\"1: I'm ChildA __init__\")\n",
    "        super().__init__()\n",
    "        print(\"2: I'm ChildA __init__\")\n",
    "\n",
    "class ChildB(BaseClass):\n",
    "    def __init__(self):\n",
    "        print(\"1: I'm ChildB __init__\")\n",
    "        super().__init__()\n",
    "        print(\"2: I'm ChildB __init__\")\n",
    "\n",
    "class ChildX(ChildA, ChildB):\n",
    "    def __init__(self):\n",
    "        print(\"1: I'm ChildX __init__\")\n",
    "        super().__init__()\n",
    "        print(\"2: I'm ChildX __init__\")\n",
    "\n",
    "# class ChildY(ChildA, ChildB): ← これなら大丈夫だけど\n",
    "class ChildY(ChildB, ChildA):\n",
    "    def __init__(self):\n",
    "        print(\"1: I'm ChildY __init__\")\n",
    "        super().__init__()\n",
    "        print(\"2: I'm ChildY __init__\")\n",
    "\n",
    "class Spam(ChildX, ChildY):\n",
    "    def __init__(self):\n",
    "        print(\"1: I'm Concreat Class\")\n",
    "        super().__init__()\n",
    "        print(\"2: I'm Concreat Class\")"
   ]
  },
  {
   "cell_type": "code",
   "execution_count": null,
   "metadata": {},
   "outputs": [],
   "source": []
  }
 ],
 "metadata": {
  "kernelspec": {
   "display_name": "Python 3",
   "language": "python",
   "name": "python3"
  },
  "language_info": {
   "codemirror_mode": {
    "name": "ipython",
    "version": 3
   },
   "file_extension": ".py",
   "mimetype": "text/x-python",
   "name": "python",
   "nbconvert_exporter": "python",
   "pygments_lexer": "ipython3",
   "version": "3.8.5"
  }
 },
 "nbformat": 4,
 "nbformat_minor": 4
}
