{
 "cells": [
  {
   "cell_type": "code",
   "execution_count": 1,
   "metadata": {},
   "outputs": [],
   "source": [
    "registry = {}\n",
    "\n",
    "def register(cls):\n",
    "    registry[cls.__name__] = cls\n",
    "    \n",
    "class AutoRegisterMeta(type):\n",
    "    def __new__(cls, name, bases, class_dict):\n",
    "        newclass = type.__new__(cls, name, bases, class_dict)\n",
    "        register(newclass)\n",
    "        return newclass\n",
    "\n",
    "class MyClassA(metaclass=AutoRegisterMeta):\n",
    "    pass\n",
    "\n",
    "class MyClassB(metaclass=AutoRegisterMeta):\n",
    "    pass"
   ]
  },
  {
   "cell_type": "code",
   "execution_count": 2,
   "metadata": {},
   "outputs": [
    {
     "data": {
      "text/plain": [
       "{'MyClassA': __main__.MyClassA, 'MyClassB': __main__.MyClassB}"
      ]
     },
     "execution_count": 2,
     "metadata": {},
     "output_type": "execute_result"
    }
   ],
   "source": [
    "registry"
   ]
  },
  {
   "cell_type": "code",
   "execution_count": 3,
   "metadata": {},
   "outputs": [],
   "source": [
    "registry = {}\n",
    "\n",
    "def register(cls):\n",
    "    registry[cls.__name__] = cls\n",
    "    \n",
    "class RegisterBase:\n",
    "    def __init_subclass__(cls, **kwargs):\n",
    "        super().__init_subclass__(**kwargs)\n",
    "        register(cls)\n",
    "\n",
    "class MyClassA(RegisterBase):\n",
    "    pass\n",
    "\n",
    "class MyClassB(RegisterBase):\n",
    "    pass"
   ]
  },
  {
   "cell_type": "code",
   "execution_count": 4,
   "metadata": {},
   "outputs": [
    {
     "data": {
      "text/plain": [
       "{'MyClassA': __main__.MyClassA, 'MyClassB': __main__.MyClassB}"
      ]
     },
     "execution_count": 4,
     "metadata": {},
     "output_type": "execute_result"
    }
   ],
   "source": [
    "registry"
   ]
  },
  {
   "cell_type": "code",
   "execution_count": null,
   "metadata": {},
   "outputs": [],
   "source": []
  }
 ],
 "metadata": {
  "kernelspec": {
   "display_name": "Python 3",
   "language": "python",
   "name": "python3"
  },
  "language_info": {
   "codemirror_mode": {
    "name": "ipython",
    "version": 3
   },
   "file_extension": ".py",
   "mimetype": "text/x-python",
   "name": "python",
   "nbconvert_exporter": "python",
   "pygments_lexer": "ipython3",
   "version": "3.8.5"
  }
 },
 "nbformat": 4,
 "nbformat_minor": 4
}
