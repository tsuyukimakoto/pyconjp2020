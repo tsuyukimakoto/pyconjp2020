{
 "cells": [
  {
   "cell_type": "code",
   "execution_count": 1,
   "metadata": {},
   "outputs": [],
   "source": [
    "class RecusableDescriptor:\n",
    "    def set_assigned_name(self, name):\n",
    "        self.name = name\n",
    "\n",
    "class PositiveInteger(RecusableDescriptor):\n",
    "\n",
    "    def __set__(self, instance, value):\n",
    "        if type(value) is not int:\n",
    "            raise ValueError(f\"value should be int, but {value}\")\n",
    "        if value < 0:\n",
    "            raise ValueError(f\"value souldn't be negative\")\n",
    "        instance.__dict__[self.name] = value\n",
    "\n",
    "    def __get__(self, instance, owner):\n",
    "        if not instance:\n",
    "            return self\n",
    "        try:\n",
    "            return instance.__dict__[self.name]\n",
    "        except KeyError:\n",
    "            raise AttributeError()"
   ]
  },
  {
   "cell_type": "code",
   "execution_count": 4,
   "metadata": {},
   "outputs": [],
   "source": [
    "class ReusableDescriptorMetaclass(type):\n",
    "    def __new__(meta, name, bases, class_dict):\n",
    "        for key, item in class_dict.items():\n",
    "            if isinstance(item, RecusableDescriptor):\n",
    "                item.set_assigned_name(key)\n",
    "        return type.__new__(meta, name, bases, class_dict)\n",
    "\n",
    "class Spam(metaclass=ReusableDescriptorMetaclass):\n",
    "    value1 = PositiveInteger()\n",
    "    value2 = PositiveInteger()\n"
   ]
  },
  {
   "cell_type": "code",
   "execution_count": 5,
   "metadata": {},
   "outputs": [],
   "source": [
    "spam1 = Spam()\n",
    "spam1.value1 = 10\n",
    "spam1.value2 = 20"
   ]
  },
  {
   "cell_type": "code",
   "execution_count": 6,
   "metadata": {},
   "outputs": [],
   "source": [
    "spam2 = Spam()\n",
    "spam2.value1 = 100\n",
    "spam2.value2 = 200"
   ]
  },
  {
   "cell_type": "code",
   "execution_count": 7,
   "metadata": {},
   "outputs": [
    {
     "name": "stdout",
     "output_type": "stream",
     "text": [
      "10 20 100 200\n"
     ]
    }
   ],
   "source": [
    "print(spam1.value1, spam1.value2, spam2.value1, spam2.value2)"
   ]
  },
  {
   "cell_type": "code",
   "execution_count": 8,
   "metadata": {},
   "outputs": [
    {
     "data": {
      "text/plain": [
       "{'value1': 10, 'value2': 20}"
      ]
     },
     "execution_count": 8,
     "metadata": {},
     "output_type": "execute_result"
    }
   ],
   "source": [
    "spam1.__dict__"
   ]
  },
  {
   "cell_type": "code",
   "execution_count": 9,
   "metadata": {},
   "outputs": [
    {
     "data": {
      "text/plain": [
       "{'name': 'value1'}"
      ]
     },
     "execution_count": 9,
     "metadata": {},
     "output_type": "execute_result"
    }
   ],
   "source": [
    "Spam.value1.__dict__"
   ]
  },
  {
   "cell_type": "code",
   "execution_count": null,
   "metadata": {},
   "outputs": [],
   "source": []
  }
 ],
 "metadata": {
  "kernelspec": {
   "display_name": "Python 3",
   "language": "python",
   "name": "python3"
  },
  "language_info": {
   "codemirror_mode": {
    "name": "ipython",
    "version": 3
   },
   "file_extension": ".py",
   "mimetype": "text/x-python",
   "name": "python",
   "nbconvert_exporter": "python",
   "pygments_lexer": "ipython3",
   "version": "3.8.5"
  }
 },
 "nbformat": 4,
 "nbformat_minor": 4
}
