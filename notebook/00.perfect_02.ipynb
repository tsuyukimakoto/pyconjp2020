{
 "cells": [
  {
   "cell_type": "code",
   "execution_count": 3,
   "metadata": {},
   "outputs": [],
   "source": [
    "class MyMeta(type):\n",
    "    def __new__(cls, name, bases, class_dict):\n",
    "        print(f\"cls: {cls}\")\n",
    "        print(f\"cls.__dict__: {cls.__dict__}\")\n",
    "        print(f\"name: {name}\")\n",
    "        print(f\"bases: {bases}\")\n",
    "        print(f\"class_dict: {class_dict}\")\n",
    "        class_dict['perfect'] = 'Python'\n",
    "        return type.__new__(cls, name, bases, class_dict)\n",
    "\n",
    "    def __init__(self, name, bases, class_dict):\n",
    "        print(f\"self: {self}\")\n",
    "        print(f\"name: {name}\")\n",
    "        print(f\"bases: {bases}\")\n",
    "        print(f\"class_dict: {class_dict}\")\n"
   ]
  },
  {
   "cell_type": "code",
   "execution_count": 4,
   "metadata": {},
   "outputs": [
    {
     "name": "stdout",
     "output_type": "stream",
     "text": [
      "cls: <class '__main__.MyMeta'>\n",
      "cls.__dict__: {'__module__': '__main__', '__new__': <staticmethod object at 0x10a8fbd30>, '__init__': <function MyMeta.__init__ at 0x10a901a60>, '__doc__': None}\n",
      "name: Mine\n",
      "bases: ()\n",
      "class_dict: {'__module__': '__main__', '__qualname__': 'Mine', 'spam': 'egg', '__init__': <function Mine.__init__ at 0x10a9019d0>, 'bark': <function Mine.bark at 0x10a901940>}\n",
      "self: <class '__main__.Mine'>\n",
      "name: Mine\n",
      "bases: ()\n",
      "class_dict: {'__module__': '__main__', '__qualname__': 'Mine', 'spam': 'egg', '__init__': <function Mine.__init__ at 0x10a9019d0>, 'bark': <function Mine.bark at 0x10a901940>, 'perfect': 'Python'}\n"
     ]
    }
   ],
   "source": [
    "class Mine(metaclass=MyMeta):\n",
    "    spam = \"egg\"\n",
    "\n",
    "    def __init__(self):\n",
    "        self.spam = None\n",
    "\n",
    "    def bark(self):\n",
    "        return f\"bark from {self.__class__.__name__}\"\n"
   ]
  },
  {
   "cell_type": "code",
   "execution_count": 5,
   "metadata": {},
   "outputs": [
    {
     "data": {
      "text/plain": [
       "'Python'"
      ]
     },
     "execution_count": 5,
     "metadata": {},
     "output_type": "execute_result"
    }
   ],
   "source": [
    "Mine.perfect"
   ]
  },
  {
   "cell_type": "code",
   "execution_count": null,
   "metadata": {},
   "outputs": [],
   "source": []
  }
 ],
 "metadata": {
  "kernelspec": {
   "display_name": "Python 3",
   "language": "python",
   "name": "python3"
  },
  "language_info": {
   "codemirror_mode": {
    "name": "ipython",
    "version": 3
   },
   "file_extension": ".py",
   "mimetype": "text/x-python",
   "name": "python",
   "nbconvert_exporter": "python",
   "pygments_lexer": "ipython3",
   "version": "3.8.5"
  }
 },
 "nbformat": 4,
 "nbformat_minor": 4
}
