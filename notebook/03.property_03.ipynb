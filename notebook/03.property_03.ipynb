{
 "cells": [
  {
   "cell_type": "code",
   "execution_count": 1,
   "metadata": {},
   "outputs": [],
   "source": [
    "# 再利用しようとすると何度も同じコードを書かないといけないので、valueをクラスにしてみる。必要に応じてtypingでほかのものをアサインしないようにしてもよいか\n",
    "class PositiveInteger:\n",
    "    def __init__(self, value):\n",
    "        if type(value) is not int:\n",
    "            raise ValueError(f\"value should be int, but {value}\")\n",
    "        if value < 0:\n",
    "            raise ValueError(f\"value souldn't be negative\")\n",
    "        self.value = value\n",
    "\n",
    "class Spam:\n",
    "    def __init__(self):\n",
    "        self.value1 = None\n",
    "        self.value2 = None"
   ]
  },
  {
   "cell_type": "code",
   "execution_count": 2,
   "metadata": {},
   "outputs": [],
   "source": [
    "spam = Spam()"
   ]
  },
  {
   "cell_type": "code",
   "execution_count": 3,
   "metadata": {},
   "outputs": [],
   "source": [
    "spam.value1 = PositiveInteger(10)\n",
    "spam.value2 = PositiveInteger(20)"
   ]
  },
  {
   "cell_type": "code",
   "execution_count": 5,
   "metadata": {},
   "outputs": [
    {
     "name": "stdout",
     "output_type": "stream",
     "text": [
      "10 20\n"
     ]
    }
   ],
   "source": [
    "print(spam.value1.value, spam.value2.value)"
   ]
  },
  {
   "cell_type": "code",
   "execution_count": null,
   "metadata": {},
   "outputs": [],
   "source": []
  }
 ],
 "metadata": {
  "kernelspec": {
   "display_name": "Python 3",
   "language": "python",
   "name": "python3"
  },
  "language_info": {
   "codemirror_mode": {
    "name": "ipython",
    "version": 3
   },
   "file_extension": ".py",
   "mimetype": "text/x-python",
   "name": "python",
   "nbconvert_exporter": "python",
   "pygments_lexer": "ipython3",
   "version": "3.8.5"
  }
 },
 "nbformat": 4,
 "nbformat_minor": 4
}
