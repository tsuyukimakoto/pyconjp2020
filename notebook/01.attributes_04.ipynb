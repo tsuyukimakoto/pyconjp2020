{
 "cells": [
  {
   "cell_type": "code",
   "execution_count": 37,
   "metadata": {},
   "outputs": [],
   "source": [
    "#  動きますが、Pythonicではありませんね\n",
    "#  メソッドは特別な理由がない限りスネークケースで\n",
    "#  setter/getterを属性ごとに作るのは無駄ですね\n",
    "\n",
    "class BadSpam:\n",
    "    def __init__(self, egg):\n",
    "        self.setEgg(egg)\n",
    "    \n",
    "    def getEgg(self):\n",
    "        return self.egg\n",
    "    \n",
    "    def setEgg(self, egg):\n",
    "        self.egg = egg\n"
   ]
  },
  {
   "cell_type": "code",
   "execution_count": 38,
   "metadata": {},
   "outputs": [],
   "source": [
    "spam = BadSpam('ham')"
   ]
  },
  {
   "cell_type": "code",
   "execution_count": 39,
   "metadata": {},
   "outputs": [
    {
     "data": {
      "text/plain": [
       "{'egg': 'ham'}"
      ]
     },
     "execution_count": 39,
     "metadata": {},
     "output_type": "execute_result"
    }
   ],
   "source": [
    "spam.__dict__"
   ]
  },
  {
   "cell_type": "code",
   "execution_count": 1,
   "metadata": {},
   "outputs": [],
   "source": [
    "# 通常は直接アクセスすれば良いです\n",
    "\n",
    "class GoodSpam:\n",
    "    def __init__(self, egg):\n",
    "        self.egg = egg"
   ]
  },
  {
   "cell_type": "code",
   "execution_count": 3,
   "metadata": {},
   "outputs": [],
   "source": [
    "spam = GoodSpam('boiled')\n",
    "spam.egg += ' double'"
   ]
  },
  {
   "cell_type": "code",
   "execution_count": 4,
   "metadata": {},
   "outputs": [
    {
     "data": {
      "text/plain": [
       "'boiled double'"
      ]
     },
     "execution_count": 4,
     "metadata": {},
     "output_type": "execute_result"
    }
   ],
   "source": [
    "spam.egg"
   ]
  },
  {
   "cell_type": "code",
   "execution_count": 2,
   "metadata": {},
   "outputs": [],
   "source": [
    "# 値をセットするとき、ゲットするときに何か処理を加えたければ@propertyを使います\n",
    "class GoodSpam:\n",
    "    def __init__(self, egg):\n",
    "        self.egg = egg\n",
    "    \n",
    "    @property\n",
    "    def egg(self):\n",
    "        print('getter of egg')\n",
    "        return self._egg\n",
    "    \n",
    "    @egg.setter\n",
    "    def egg(self, egg):\n",
    "        print('setter of egg')\n",
    "        self._egg = egg\n"
   ]
  },
  {
   "cell_type": "code",
   "execution_count": 3,
   "metadata": {},
   "outputs": [
    {
     "name": "stdout",
     "output_type": "stream",
     "text": [
      "setter of egg\n"
     ]
    }
   ],
   "source": [
    "spam = GoodSpam('very good ham')"
   ]
  },
  {
   "cell_type": "markdown",
   "metadata": {},
   "source": [
    "spam.__dict__"
   ]
  },
  {
   "cell_type": "code",
   "execution_count": 5,
   "metadata": {},
   "outputs": [
    {
     "name": "stdout",
     "output_type": "stream",
     "text": [
      "getter of egg\n"
     ]
    },
    {
     "data": {
      "text/plain": [
       "'very good ham'"
      ]
     },
     "execution_count": 5,
     "metadata": {},
     "output_type": "execute_result"
    }
   ],
   "source": [
    "spam.egg"
   ]
  },
  {
   "cell_type": "code",
   "execution_count": 49,
   "metadata": {},
   "outputs": [],
   "source": [
    "# デコレーターでなくpropertyを使う場合\n",
    "# lass property(fget=None, fset=None, fdel=None, doc=None)\n",
    "# https://docs.python.org/ja/3/library/functions.html#property\n",
    "\n",
    "class GoodSpam:\n",
    "    def __init__(self, egg):\n",
    "        self.egg = egg\n",
    "    \n",
    "    def _get_egg(self):\n",
    "        print('getter method of egg')\n",
    "        return self._egg\n",
    "\n",
    "    def _set_egg(self, egg):\n",
    "        print('setter method of egg')\n",
    "        self._egg = egg\n",
    "    \n",
    "    egg = property(_get_egg, _set_egg)\n"
   ]
  },
  {
   "cell_type": "code",
   "execution_count": 50,
   "metadata": {},
   "outputs": [
    {
     "name": "stdout",
     "output_type": "stream",
     "text": [
      "setter method of egg\n"
     ]
    }
   ],
   "source": [
    "spam = GoodSpam('good ham')"
   ]
  },
  {
   "cell_type": "code",
   "execution_count": 51,
   "metadata": {},
   "outputs": [
    {
     "name": "stdout",
     "output_type": "stream",
     "text": [
      "getter method of egg\n"
     ]
    },
    {
     "data": {
      "text/plain": [
       "'good ham'"
      ]
     },
     "execution_count": 51,
     "metadata": {},
     "output_type": "execute_result"
    }
   ],
   "source": [
    "spam.egg"
   ]
  },
  {
   "cell_type": "code",
   "execution_count": 52,
   "metadata": {},
   "outputs": [
    {
     "data": {
      "text/plain": [
       "mappingproxy({'__module__': '__main__',\n",
       "              '__init__': <function __main__.GoodSpam.__init__(self, egg)>,\n",
       "              '_get_egg': <function __main__.GoodSpam._get_egg(self)>,\n",
       "              '_set_egg': <function __main__.GoodSpam._set_egg(self, egg)>,\n",
       "              'egg': <property at 0x104845ef0>,\n",
       "              '__dict__': <attribute '__dict__' of 'GoodSpam' objects>,\n",
       "              '__weakref__': <attribute '__weakref__' of 'GoodSpam' objects>,\n",
       "              '__doc__': None})"
      ]
     },
     "execution_count": 52,
     "metadata": {},
     "output_type": "execute_result"
    }
   ],
   "source": [
    "GoodSpam.__dict__"
   ]
  },
  {
   "cell_type": "code",
   "execution_count": null,
   "metadata": {},
   "outputs": [],
   "source": []
  }
 ],
 "metadata": {
  "kernelspec": {
   "display_name": "Python 3",
   "language": "python",
   "name": "python3"
  },
  "language_info": {
   "codemirror_mode": {
    "name": "ipython",
    "version": 3
   },
   "file_extension": ".py",
   "mimetype": "text/x-python",
   "name": "python",
   "nbconvert_exporter": "python",
   "pygments_lexer": "ipython3",
   "version": "3.8.5"
  }
 },
 "nbformat": 4,
 "nbformat_minor": 4
}
