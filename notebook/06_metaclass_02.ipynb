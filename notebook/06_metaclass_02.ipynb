{
 "cells": [
  {
   "cell_type": "code",
   "execution_count": 1,
   "metadata": {},
   "outputs": [],
   "source": [
    "from abc import ABC, abstractmethod\n",
    "\n",
    "registry = {}\n",
    "\n",
    "def register(cls):\n",
    "    registry[cls.__name__] = cls\n",
    "    \n",
    "class RegisterBase:\n",
    "    def __init_subclass__(cls, **kwargs):\n",
    "        super().__init_subclass__(**kwargs)\n",
    "        register(cls)\n",
    "\n",
    "class AbstractPlugin(ABC):\n",
    "    @abstractmethod\n",
    "    def run(self):\n",
    "        pass\n",
    "    \n",
    "class MyClassA(AbstractPlugin, RegisterBase):\n",
    "    def run(self):\n",
    "        return f\"return from {self.__class__.__name__}.run\"\n",
    "\n",
    "class MyClassB(AbstractPlugin, RegisterBase):\n",
    "    def run(self):\n",
    "        return f\"return from {self.__class__.__name__}.run\"\n"
   ]
  },
  {
   "cell_type": "code",
   "execution_count": 2,
   "metadata": {},
   "outputs": [
    {
     "data": {
      "text/plain": [
       "{'MyClassA': __main__.MyClassA, 'MyClassB': __main__.MyClassB}"
      ]
     },
     "execution_count": 2,
     "metadata": {},
     "output_type": "execute_result"
    }
   ],
   "source": [
    "registry"
   ]
  },
  {
   "cell_type": "code",
   "execution_count": 3,
   "metadata": {},
   "outputs": [],
   "source": [
    "ma = MyClassA()"
   ]
  },
  {
   "cell_type": "code",
   "execution_count": 4,
   "metadata": {},
   "outputs": [
    {
     "data": {
      "text/plain": [
       "'return from MyClassA.run'"
      ]
     },
     "execution_count": 4,
     "metadata": {},
     "output_type": "execute_result"
    }
   ],
   "source": [
    "ma.run()"
   ]
  }
 ],
 "metadata": {
  "kernelspec": {
   "display_name": "Python 3",
   "language": "python",
   "name": "python3"
  },
  "language_info": {
   "codemirror_mode": {
    "name": "ipython",
    "version": 3
   },
   "file_extension": ".py",
   "mimetype": "text/x-python",
   "name": "python",
   "nbconvert_exporter": "python",
   "pygments_lexer": "ipython3",
   "version": "3.8.5"
  }
 },
 "nbformat": 4,
 "nbformat_minor": 4
}
